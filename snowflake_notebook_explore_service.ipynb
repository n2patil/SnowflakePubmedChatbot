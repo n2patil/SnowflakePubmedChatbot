{
 "metadata": {
  "kernelspec": {
   "display_name": "Streamlit Notebook",
   "name": "streamlit"
  }
 },
 "nbformat_minor": 5,
 "nbformat": 4,
 "cells": [
  {
   "cell_type": "code",
   "id": "3775908f-ca36-4846-8f38-5adca39217f2",
   "metadata": {
    "language": "python",
    "name": "cell1",
    "collapsed": false
   },
   "source": "# Import python packages\nimport streamlit as st\nimport pandas as pd \nfrom snowflake.core import Root\nimport json\nimport pandas as pd\n\n# We can also use Snowpark for our analyses!\nfrom snowflake.snowpark.context import get_active_session\nsession = get_active_session()\nroot = Root(session)\n",
   "execution_count": null,
   "outputs": []
  },
  {
   "cell_type": "code",
   "id": "43b25f70-4dda-483a-a899-39f857d7ff7a",
   "metadata": {
    "language": "python",
    "name": "cell2",
    "collapsed": false
   },
   "outputs": [],
   "source": "pmc_search_service = (root\n  .databases[\"PMC_DATA\"]\n  .schemas[\"PMC_OA_OPENDATA\"]\n  .cortex_search_services[\"my_pmc_search_service\"]\n)",
   "execution_count": null
  },
  {
   "cell_type": "code",
   "id": "c695373e-ac74-4b62-a1f1-08206cbd5c81",
   "metadata": {
    "language": "python",
    "name": "cell3",
    "collapsed": false
   },
   "source": "#PMC9388453\n#type II diabetes\nsimilar_articles=pmc_search_service.search(\n    query='heavy metals',\n    columns= [\"CHUNK\", \"ACCESSIONID\"],\n    filter={\"@eq\": {\"accessionid\": \"PMC9388453\"} },\n    limit=10\n)",
   "execution_count": null,
   "outputs": []
  },
  {
   "cell_type": "code",
   "id": "340c9960-fa60-4b72-b0d8-28d56a0b7d39",
   "metadata": {
    "language": "python",
    "name": "cell5",
    "collapsed": false
   },
   "outputs": [],
   "source": "# Then, we can use the python name to turn cell2 into a Pandas dataframe\n#PMC9388453\n#type II diabetes\nsimilar_articles=pmc_search_service.search(\n    query='heavy metals',\n    columns= [\"CHUNK\", \"ACCESSIONID\"],\n    limit=100\n)",
   "execution_count": null
  },
  {
   "cell_type": "code",
   "id": "2b685c26-2e55-4af1-81de-a03904e904b0",
   "metadata": {
    "language": "python",
    "name": "cell4",
    "collapsed": false
   },
   "outputs": [],
   "source": "similar_articles_resp=similar_articles.to_json()\ndata = json.loads(similar_articles_resp)\ndf = pd.json_normalize(data['results'])",
   "execution_count": null
  },
  {
   "cell_type": "code",
   "id": "ee22e616-4052-4d5c-9f71-d0c4252133c6",
   "metadata": {
    "language": "python",
    "name": "cell10",
    "collapsed": false
   },
   "outputs": [],
   "source": "df",
   "execution_count": null
  },
  {
   "cell_type": "code",
   "id": "ee62e5be-846b-496b-b1c1-cbd18b3ad3c1",
   "metadata": {
    "language": "python",
    "name": "cell7"
   },
   "outputs": [],
   "source": "df[\"ACCESSIONID\"].unique()",
   "execution_count": null
  },
  {
   "cell_type": "code",
   "id": "09093f0f-5c4b-4b3f-af22-1ca025d7c3cb",
   "metadata": {
    "language": "python",
    "name": "cell8",
    "collapsed": false
   },
   "outputs": [],
   "source": "#example streamlit code \nimport streamlit as st # Import python packages\nfrom snowflake.snowpark.context import get_active_session\nsession = get_active_session() # Get the current credentials\n\nimport pandas as pd\n\npd.set_option(\"max_colwidth\",None)\nnum_chunks = 3 # Num-chunks provided as context. Play with this to check how it affects your accuracy\n\ndef create_prompt (myquestion, rag, article_chosen=None):\n    st.write(article_chosen)\n    root = Root(session)\n    pmc_search_service = (root\n                .databases[\"PMC_DATA\"]\n                .schemas[\"PMC_OA_OPENDATA\"]\n                .cortex_search_services[\"my_pmc_search_service\"]\n                )\n    if rag == 1:  \n        if article_chosen:\n            similar_articles=pmc_search_service.search(\n                query='heavy metals',\n                columns= [\"CHUNK\", \"ACCESSIONID\"],\n                filter={\"@eq\": {\"accessionid\": f\"{article_chosen}\" }},\n                limit=10\n                )\n            \n            similar_articles_resp=similar_articles.to_json()\n            data = json.loads(similar_articles_resp)\n            df_context = pd.json_normalize(data['results'])\n            st.write(df_context)\n        \n            \n            context_lenght = len(df_context) -1\n    \n            prompt_context = \"\"\n            for i in range (0, context_lenght):\n                prompt_context += df_context._get_value(i, 'CHUNK')\n    \n            prompt_context = prompt_context.replace(\"'\", \"\")\n            accessionid =  df_context._get_value(0,'ACCESSIONID')\n        \n            prompt = f\"\"\"\n              'You are an expert assistance extracting information from context provided. \n               Answer the question based on the context. Be concise and do not hallucinate. \n               If you don´t have the information just say so.\n              Context: {prompt_context}\n              Question:  \n               {myquestion} \n               Answer: '\n               \"\"\"\n        else:\n            similar_articles=pmc_search_service.search(\n                query='heavy metals',\n                columns= [\"CHUNK\", \"ACCESSIONID\"],\n                limit=10\n                )\n            \n            similar_articles_resp=similar_articles.to_json()\n            data = json.loads(similar_articles_resp)\n            df_context = pd.json_normalize(data['results'])\n        \n            \n            context_lenght = len(df_context) -1\n    \n            prompt_context = \"\"\n            for i in range (0, context_lenght):\n                prompt_context += df_context._get_value(i, 'CHUNK')\n    \n            prompt_context = prompt_context.replace(\"'\", \"\")\n            accessionid =  df_context._get_value(0,'ACCESSIONID')\n        \n            prompt = f\"\"\"\n              'You are an expert assistance extracting information from context provided. \n               Answer the question based on the context. Be concise and do not hallucinate. \n               If you don´t have the information just say so.\n              Context: {prompt_context}\n              Question:  \n               {myquestion} \n               Answer: '\n               \"\"\"\n\n    else:\n        prompt = f\"\"\"\n         'Question:  \n           {myquestion} \n           Answer: '\n           \"\"\"\n        accessionid = \"None\"\n        \n        \n    return prompt,accessionid\n\ndef complete(myquestion, model_name, rag = 1, article_chosen=None):\n    #st.write(article_chosen)\n\n    prompt,accessionid =create_prompt (myquestion, rag, article_chosen)\n    cmd = f\"\"\"\n             select SNOWFLAKE.CORTEX.COMPLETE(?,?) as response\n           \"\"\"\n    \n    df_response = session.sql(cmd, params=[model_name, prompt]).collect()\n    return df_response, accessionid\n\ndef display_response (question, model, rag=0, article_chosen=None):\n    response, accessionid= complete(question, model, rag, article_chosen)\n    res_text = response[0].RESPONSE\n    st.markdown(res_text)\n    if rag == 1:\n        text= f\"Associated NCBI AccessionID: {accessionid} that may be useful\"\n        st.write(text)\n\n#Main code\n\nst.title(\"Asking Questions on NCBI Articles with Snowflake Cortex:\")\nst.write(\"\"\"You can ask questions and decide if you want to the NCBI Articles for context or allow the model to create their own response.\"\"\")\ndocs_available = session.sql(\"select distinct ACCESSIONID from PMC_DATA.PMC_OA_OPENDATA.PMC_SERVICE_VW limit 10\").collect()\nlist_docs = []\nfor doc in docs_available:\n    list_docs.append(doc[\"ACCESSIONID\"])\n\nrag = st.checkbox('Use articles as context?')\n\nif rag:\n    use_rag = 1\n    article_chosen=st.selectbox(\"Choose an Article for Context\",list_docs)\nelse:\n    use_rag = 0\n    article_chosen=None\n\n#Here you can choose what LLM to use. Please note that they will have different cost & performance\nmodel = st.selectbox('Select your model:',(\n                                    'mixtral-8x7b',\n                                    'snowflake-arctic',\n                                    'mistral-large',\n                                    'llama3-8b',\n                                    'llama3-70b',\n                                    'reka-flash',\n                                     'mistral-7b',\n                                     'llama2-70b-chat',\n                                     'gemma-7b'))\n\nquestion = st.text_input(\"Enter question\", placeholder=\"Is there articles related to type-II diabetes?\", label_visibility=\"collapsed\")\n\nif question:\n    display_response (question, model, use_rag, article_chosen)",
   "execution_count": null
  },
  {
   "cell_type": "code",
   "id": "544fc8ef-7608-49f0-b93b-909cff9b2dd8",
   "metadata": {
    "language": "python",
    "name": "cell9",
    "codeCollapsed": false
   },
   "outputs": [],
   "source": "",
   "execution_count": null
  }
 ]
}